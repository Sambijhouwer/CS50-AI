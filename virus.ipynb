{
 "cells": [
  {
   "cell_type": "markdown",
   "metadata": {},
   "source": [
    "# Virus: Infection\n",
    "\n",
    "![](virus.jpg)\n",
    "\n",
    "Voor o.a. de farmaceutische industrie is het belangrijk om de succeskans van een geneesmiddel te bepalen.\n",
    "Dit is lastig analytisch te doen, maar we kunnen het wel modelleren.\n",
    "In deze opdracht ga je virusdeeltjes simuleren, welke kunnen reproduceren en sterven.\n",
    "We bouwen deze opdracht stap voor stap op, tot een gehele simulatie.\n",
    "\n",
    "Onder elke tussenstap vind je een code blok met een functie die jij gaat implementeren. Onder deze functie staat een stukje test code. Dat is code die de functie aanroept om even snel te checken of deze wel klopt. Deze tests zijn niet compleet, er kunnen nog bugs in de functie zitten ook al slagen de tests. Vertrouw er dus niet te veel op! Het is de bedoeling dat je deze tests aanvult als je dat nodig / handig lijkt.\n"
   ]
  },
  {
   "cell_type": "markdown",
   "metadata": {},
   "source": [
    "\n",
    "### Tussenstap 1: Virusgenoom\n",
    "\n",
    "Als model voor een virusgenoom gaan we gebruik maken van een DNA string welke bestaat uit de vier nucleotiden ATGC.\n",
    "A (Adenine) is altijd verbonden met T (Thymine), G (Guanine) is altijd verbonden met C (Cytosine).\n",
    "Voor de representatie doen we het volgende, een serie van nucleotides in een string.\n",
    "Aangezien er maar 4 mogelijkheden zijn voor baseparen (AT, GC, TA, CG), kunnen we dit encoderen met de 4 letters.\n",
    "Zie bijvoorbeeld de volgende string:\n",
    "\n",
    "\tAGTC\n",
    "\n",
    "Dit is een DNA string met alle vier base paren, eerst het paar AT, dan GC, dan TA, en als laatste CG.\n",
    "Effectief laten we telkens het aanhangende nucleotide weg, dat maakt de representatie wat simpeler!\n",
    "\n",
    "* Schrijf een functie `generateVirus(length)`.\n",
    "\t* Deze functie accepteert één argument, `length`, dat is een integer die de lengte van het virusgenoom representeerd.\n",
    "\t* De functie moet een string returnen bestaande uit een willekeurige sequentie van nucleotides.\n",
    "* Oh, one more thing: Je mag maar **twee regels code** gebruiken voor deze functie (dat is inclusief de regel `def generateVirus(length):`).\n",
    "\n",
    "### Tips\n",
    "\n",
    "* Kijk eens naar de `random.choice()` functie.\n",
    "* Gebruik een list comprehension en de `\"\".join()` methode van een string."
   ]
  },
  {
   "cell_type": "code",
   "execution_count": 1,
   "metadata": {},
   "outputs": [],
   "source": [
    "import random\n",
    "\n",
    "def generateVirus(length):\n",
    "    return ''.join([random.choice(['A', 'G', 'T', 'C']) for letter in range(length)])\n"
   ]
  },
  {
   "cell_type": "markdown",
   "metadata": {},
   "source": [
    "### Tussenstap 2: Muteren\n",
    "\n",
    "Zodra een virus wordt geboren heeft deze een kans te muteren.\n",
    "Muteren is het veranderen van één willekeurig nucleotide voor een willekeurige ander.\n",
    "Bijvoorbeeld van AGTC naar ATTC.\n",
    "\n",
    "* Schrijf een functie `mutate(virus)`.\n",
    "\t* Deze functie accepteert één argument, `virus`, dat is een string van nucleotides.\n",
    "\t* De functie moet een string returnen bestaande uit dezelfde nucleotides, waarvan er één is gemuteerd.\n",
    "* Geen regellimiet dit keer, maar als je jezelf wilt uitdagen: 3 (of minder) regels is mogelijk.\n",
    "\n",
    "### Tips\n",
    "\n",
    "* Kijk eens naar de `random.randrange()` functie!\n",
    "* Gebruik list slicing."
   ]
  },
  {
   "cell_type": "code",
   "execution_count": 2,
   "metadata": {},
   "outputs": [],
   "source": [
    "def mutate(virus):\n",
    "    index = random.randrange(len(virus))\n",
    "    return virus[:index] + random.choice([letter for letter in ['A', 'T', 'G', 'C'] if letter != virus[index]]) + virus[index + 1:]\n"
   ]
  },
  {
   "cell_type": "markdown",
   "metadata": {},
   "source": [
    "### Tussenstap 3: Afsterven\n",
    "\n",
    "Virussen sterven uiteindelijk ook, dit gebeurt met een bepaalde kans per tijdstap in de simulatie.\n",
    "\n",
    "* Schrijf een functie `kill(viruses, mortalityProb)`.\n",
    "\t* Deze functie accepteert twee argumenten:\n",
    "\t\t* `viruses` is een lijst van virusgenomen.\n",
    "\t\t* `mortalityProb` is een float tussen 0 en 1 (inclusief) die de kans op het afsterven per virusdeeltje representeert.\n",
    "\t* De functie moet een **nieuwe** lijst returnen met daarin de virusgenomen die het hebben overleefd.\n",
    "* Let op, elk virusgenoom heeft een individuele kans om af te sterven. Dus bij een `mortalityProb` van 0.2 overleeft gemiddeld 80% van de viruspopulatie het, maar dit kan fluctueren!\n",
    "* Je mag hier **twee regels code** gebruiken (dat is inclusief de regel `def kill(viruses, mortalityProb):`).\n",
    "\n",
    "### Tip\n",
    "\n",
    "* Gebruik een list comprehension!\n"
   ]
  },
  {
   "cell_type": "code",
   "execution_count": 3,
   "metadata": {},
   "outputs": [],
   "source": [
    "def kill(viruses, mortalityProb):\n",
    "    return [virus for virus in viruses if random.random() > mortalityProb]\n"
   ]
  },
  {
   "cell_type": "markdown",
   "metadata": {},
   "source": [
    "### Tussenstap 4: Reproductie\n",
    "\n",
    "Een virus heeft een kans zich voort te planten op elke tijdstap in de simulatie.\n",
    "Als een virus zich voortplant dan heeft het kind exact dezelfde DNA string als de ouder.\n",
    "Behalve als het kind muteert, dan is er één basepaar anders.\n",
    "\n",
    "* Schrijf voor reproductie een functie `reproduce(viruses, mutationProb, reproductionProb)`.\n",
    "\t* Deze functie accepteert drie argumenten:\n",
    "\t\t* `viruses` is een lijst van virusgenomen.\n",
    "\t\t* `mutationProb` is een float tussen 0 en 1 (inclusief) die de kans op mutatie bij het kind virusdeeltje representeert.\n",
    "\t\t* `reproductionProb` is een float tussen 0 en 1 (inclusief) die de kans op reproductie per virusdeeltje representeert.\n",
    "* De functìe moet de lijst van de totale populatie van virusgenomen returnen. Dat is dus inclusief de ouders!\n",
    "* Let op, elk virusgenoom heeft een individuele kans om te reproduceren. Dus bij een `reproductionProb` van 0.2 reproduceert gemiddeld 20% van de populatie, maar dit kan fluctueren!\n",
    "* Geen regellimiet dit keer, maar als je jezelf wilt uitdagen: 2 regels is mogelijk.\n"
   ]
  },
  {
   "cell_type": "code",
   "execution_count": 4,
   "metadata": {},
   "outputs": [],
   "source": [
    "import itertools\n",
    "def reproduce(viruses, mutationProb, reproductionProb):\n",
    "    return list(itertools.chain.from_iterable([([virus, mutate(virus)] if random.random() < mutationProb else [virus,virus]) if random.random() < reproductionProb else [virus] for virus in viruses]))\n",
    "\n"
   ]
  },
  {
   "cell_type": "markdown",
   "metadata": {},
   "source": [
    "### Reproductiekans als functie van populatie grootte\n",
    "\n",
    "Naarmate er meer virusdeeltjes aanwezig zijn, wordt de kans op reproductie kleiner.\n",
    "Er is simpelweg niet genoeg ruimte voor alle virusdeeltjes.\n",
    "Er is een negatief linear verband tussen het aantal virussen en de reproductie kans.\n",
    "De kans op reproductie is gelijk aan `(1 - (grootte_van_virus_populatie / maximaal_aantal_virussen)) * maximale_reproductie_kans`.\n",
    "De functie om de kans per individueel virusdeeltje in een populatie te berekenen vind je hieronder:\n"
   ]
  },
  {
   "cell_type": "code",
   "execution_count": 5,
   "metadata": {},
   "outputs": [],
   "source": [
    "def reproductionProbability(viruses, maxReproductionProb, maxPopulation):\n",
    "    return (1 - (len(viruses) / maxPopulation)) * maxReproductionProb "
   ]
  },
  {
   "cell_type": "markdown",
   "metadata": {},
   "source": [
    "### Tussenstap 5: Simuleren\n",
    "\n",
    "Nu we een representatie hebben voor virussen, deze kunnen laten muteren, doen sterven, en laten reproduceren, kunnen we gaan simuleren.\n",
    "Laat per tijdstap eerst virussen afsterven, daarna bereken je pas de reproductie kans en laat je ze reproduceren.\n",
    "\n",
    "* Schrijf een functie `simulate(viruses, mortalityProb, mutationProb, maxReproductionProb, maxPopulation, timesteps = 500)`.\n",
    "\t* Deze functie accepteert vijf argumenten, en één optioneel argument:\n",
    "\t\t* `viruses` is een lijst van virusgenomen.\n",
    "\t\t* `mortalityProb` is een float tussen 0 en 1 (inclusief) die de kans op het afsterven per virusdeeltje representeert.\n",
    "\t\t* `mutationProb` is een float tussen 0 en 1 (inclusief) die de kans op mutatie bij reproductie representeert.\n",
    "\t\t* `maxReproductionProb` is een float tussen 0 en 1 (inclusief) die de maximale kans op reproductie per virusdeeltje representeert.\n",
    "\t\t* `maxPopulation` is een integer voor de maximale populatiegrootte.\n",
    "\t\t* `timesteps` is een integer en een optioneel argument die het aantal tijdstappen in de simulatie aangeeft.\n",
    "\n",
    "\t* De functie moet een lijst returnen met daarin de populatiegrootte (een integer) op elke tijdstap.\n",
    "\n",
    "### Tips\n",
    "\n",
    "* Test deze functie zorgvuldig! Maak eventueel een plot van de uitkomst, gebeurt er wat je verwacht?\n",
    "* Let op, als `timesteps = 500`, dan moet `simulate()` een lijst van `501` lang returnen!"
   ]
  },
  {
   "cell_type": "code",
   "execution_count": 6,
   "metadata": {},
   "outputs": [],
   "source": [
    "def simulate(viruses, mortalityProb, mutationProb, maxReproductionProb, maxPopulation, timesteps = 500):\n",
    "    # Virus length list\n",
    "    population = [len(viruses)]\n",
    "    for step in range(timesteps):\n",
    "        # Run functions on virus and append length\n",
    "        viruses = kill(viruses, mortalityProb)\n",
    "        viruses = reproduce(viruses, mutationProb, reproductionProbability(viruses, maxReproductionProb, maxPopulation))\n",
    "        population.append(len(viruses))\n",
    "    return population\n"
   ]
  },
  {
   "cell_type": "markdown",
   "metadata": {},
   "source": [
    "# Virus: Geneesmiddel\n",
    "\n",
    "![](medicine.png)\n",
    "\n",
    "In dit deel van de module gaan we een geneesmiddel introduceren dat de virussen bestrijdt.\n",
    "Maar virussen kunnen resistent zijn, en hun kinderen kunnen het worden.\n",
    "Een resistent virus is een virus dat `AAA` in zijn DNA string heeft.\n",
    "Zodra het geneesmiddel wordt geintroduceerd, kunnen alle virussen behalve resistente virussen niet meer reproduceren."
   ]
  },
  {
   "cell_type": "markdown",
   "metadata": {},
   "source": [
    "### Tussenstap 6: Resistentie\n",
    "Allereerst gaan we kijken of een virusgenoom resistent is.\n",
    "\n",
    "* Schrijf een functie `isResistent(virus)`.\n",
    "\t* Deze functie accepteert één argument, `virus`, dit is een virusgenoom.\n",
    "\t* De functie moet een boolean returnen welke aangeeft of het virus resistent is (`True`) of niet (`False`).\n",
    "* Een virus is enkel resistent als `AAA` achterelkaar voorkomt.\n",
    "\n",
    "### Tip\n",
    "\n",
    "* Kijk eens naar de functie `string.find()`!"
   ]
  },
  {
   "cell_type": "code",
   "execution_count": 7,
   "metadata": {},
   "outputs": [],
   "source": [
    "import string\n",
    "\n",
    "def isResistent(virus):\n",
    "    return True if 'AAA' in virus else False\n"
   ]
  },
  {
   "cell_type": "markdown",
   "metadata": {},
   "source": [
    "### Tussenstap 7: Simuleren met een geneesmiddel\n",
    "Nu kunnen we het effect gaan bestuderen van de introductie van een geneesmiddel.\n",
    "We dienen het geneesmiddel toe zodra de diagnose is gesteld, bij de 100ste tijdstap.\n",
    "Laat per tijdstap eerst virussen afsterven, daarna bereken je pas de reproductie kans en laat je ze reproduceren.\n",
    "\n",
    "* Schrijf een functie genaamd `simulate_medicine(viruses, mortalityProb, mutationProb, maxReproductionProb, maxPopulation, timesteps = 500)`.\n",
    "\t* Deze functie accepteert vijf argumenten, en één optioneel argument:\n",
    "\t\t* `viruses` is een lijst van virusgenomen.\n",
    "\t\t* `mortalityProb` is een float tussen 0 en 1 (inclusief) die de kans op het afsterven per virusdeeltje representeert.\n",
    "\t\t* `reproductionProb` is een float tussen 0 en 1 (inclusief) die de kans op reproductie per virusdeeltje representeert.\n",
    "\t\t* `maxPopulation` is een integer voor de maximale populatiegrootte.\n",
    "\t\t* `mutationProb` is een float tussen 0 en 1 (inclusief) die de kans op mutatie bij reproductie representeert.\n",
    "\t\t* `timesteps` is een integer en een optioneel argument die het aantal tijdstappen in de simulatie aangeeft.\n",
    "\t* De functie moet een lijst returnen met daarin de populatiegrootte (een integer) op elke tijdstap.\n",
    "* In tegenstelling tot `simulate()` mag een virus enkel reproduceren als het resistent is na de 100ste tijdstap.\n",
    "\n",
    "### Tips\n",
    "* Test deze functie goed!\n",
    "* Maak eventueel een plot, gebeurt er wat je verwacht?"
   ]
  },
  {
   "cell_type": "code",
   "execution_count": 12,
   "metadata": {},
   "outputs": [],
   "source": [
    "def simulateMedicine(viruses, mortalityProb, mutationProb, maxReproductionProb, maxPopulation, timesteps = 500):\n",
    "    population = [len(viruses)]\n",
    "    \n",
    "    # Check which viruses are immune\n",
    "    immune = [virus for virus in viruses if isResistent(virus)]\n",
    "    non_immune = [virus for virus in viruses if not isResistent(virus)]\n",
    "    \n",
    "    # Simulate steps\n",
    "    for step in range(timesteps):\n",
    "        immune = kill(immune, mortalityProb)\n",
    "        non_immune = kill(non_immune, mortalityProb)\n",
    "            \n",
    "        # only reproduce after 100th step if immune\n",
    "        reproductionProb = reproductionProbability(viruses, maxReproductionProb, maxPopulation)\n",
    "        if step <= 100:\n",
    "            immune = reproduce(immune, mutationProb, reproductionProb)\n",
    "            non_immune = reproduce(non_immune, mutationProb, reproductionProb)\n",
    "        else:\n",
    "            immune = reproduce(immune, mutationProb, reproductionProb)\n",
    "            \n",
    "        # Add together length of immune and non immune viruses  \n",
    "        viruses = immune + non_immune\n",
    "        population.append(len(viruses))\n",
    "    return population"
   ]
  },
  {
   "cell_type": "markdown",
   "metadata": {},
   "source": [
    "### Tussenstap 8: Genezing?\n",
    "Met de volgende parameters:\n",
    "\n",
    "* tijdstappen = 500\n",
    "* genoomlengte = 16\n",
    "* start virus populatie grootte = 10\n",
    "* maximale virus populatie grootte = 1000\n",
    "* maximale reproductie kans = 7%\n",
    "* sterfte kans = 5%\n",
    "* mutatie kans = 10%\n",
    "\n",
    "Hoeveel van percent van de patienten is volledig genezen? Een patient is volledig genezen als er geen virusdeeltjes aanwezig zijn in de laatste tijdstap.\n",
    "\n",
    "* Schrijf hiervoor een functie `experiment(numberOfPatients)`.\n",
    "\t* Deze functie accepteert één argument, `numberOfPatients`, dit is het aantal patienten in het experiment.\n",
    "\t* De functie moet een integer returnen dat het aantal compleet genezen patienten teruggeeft.\n",
    "\n"
   ]
  },
  {
   "cell_type": "code",
   "execution_count": 15,
   "metadata": {},
   "outputs": [],
   "source": [
    "def experiment(numberOfPatients):\n",
    "    cured = 0\n",
    "    for i in range(numberOfPatients):\n",
    "        viruses = [generateVirus(16) for _ in range(10)]\n",
    "        if simulateMedicine(viruses, 0.05, 0.1, 0.07, 1000, timesteps = 500)[-1] == 0:\n",
    "            cured += 1\n",
    "    return cured"
   ]
  },
  {
   "cell_type": "code",
   "execution_count": null,
   "metadata": {},
   "outputs": [],
   "source": []
  }
 ],
 "metadata": {
  "kernelspec": {
   "display_name": "Python 3",
   "language": "python",
   "name": "python3"
  },
  "language_info": {
   "codemirror_mode": {
    "name": "ipython",
    "version": 3
   },
   "file_extension": ".py",
   "mimetype": "text/x-python",
   "name": "python",
   "nbconvert_exporter": "python",
   "pygments_lexer": "ipython3",
   "version": "3.7.3"
  }
 },
 "nbformat": 4,
 "nbformat_minor": 2
}
